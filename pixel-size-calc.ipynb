{
 "cells": [
  {
   "cell_type": "markdown",
   "metadata": {},
   "source": [
    "![sketch](sketch.jpg) ![sketch2](sketch2.jpg)"
   ]
  },
  {
   "cell_type": "code",
   "execution_count": 1,
   "metadata": {},
   "outputs": [],
   "source": [
    "import numpy as np"
   ]
  },
  {
   "cell_type": "code",
   "execution_count": 2,
   "metadata": {},
   "outputs": [],
   "source": [
    "z = 25 # cross-track look angle from nadir, degrees (determines swath width)\n",
    "r = 6371 # average earth radius, km\n",
    "#req = 6378 # equatorial radius, km\n",
    "#rpol = 6357 # polar radius, km\n",
    "h = 400 # orbit height, km (for ISS 400 +/- 25 km)\n",
    "ifov = 96.0e-6 # instantaneous field of view of individual pixel (along-track), radians"
   ]
  },
  {
   "cell_type": "markdown",
   "metadata": {},
   "source": [
    "Use law of sines to solve for angles y, x, and length l"
   ]
  },
  {
   "cell_type": "code",
   "execution_count": 3,
   "metadata": {},
   "outputs": [
    {
     "name": "stdout",
     "output_type": "stream",
     "text": [
      "153.31070120292634\n"
     ]
    }
   ],
   "source": [
    "# solving for angle y\n",
    "y = np.degrees( -1*np.arcsin( (r+h)*np.sin(np.radians(z))/r) + np.pi )\n",
    "print(y)"
   ]
  },
  {
   "cell_type": "code",
   "execution_count": 4,
   "metadata": {},
   "outputs": [
    {
     "name": "stdout",
     "output_type": "stream",
     "text": [
      "1.6892987970736613\n"
     ]
    }
   ],
   "source": [
    "# now solve for angle x\n",
    "x = 180 - z - y\n",
    "print(x)"
   ]
  },
  {
   "cell_type": "code",
   "execution_count": 5,
   "metadata": {},
   "outputs": [
    {
     "name": "stdout",
     "output_type": "stream",
     "text": [
      "444.4063568375799\n"
     ]
    }
   ],
   "source": [
    "# distance between satellite and Earth surface at edge of swath, km\n",
    "l = (r + h) * np.sin(np.radians(x)) / (np.sin(np.radians(y)))\n",
    "print(l)"
   ]
  },
  {
   "cell_type": "markdown",
   "metadata": {},
   "source": [
    "Pixel size in along-track dimenion for nadir view, m"
   ]
  },
  {
   "cell_type": "code",
   "execution_count": 6,
   "metadata": {},
   "outputs": [
    {
     "name": "stdout",
     "output_type": "stream",
     "text": [
      "38.4000001179648\n"
     ]
    }
   ],
   "source": [
    "a = np.tan(ifov)*h # ifov at distance h in km\n",
    "alongtrack_nadir_pixel_m = 1000*a # km to m\n",
    "print(alongtrack_nadir_pixel_m)"
   ]
  },
  {
   "cell_type": "markdown",
   "metadata": {},
   "source": [
    "Pixel size in along-track dimension for off-nadir view, m"
   ]
  },
  {
   "cell_type": "code",
   "execution_count": 7,
   "metadata": {},
   "outputs": [
    {
     "name": "stdout",
     "output_type": "stream",
     "text": [
      "42.66301038746844\n"
     ]
    }
   ],
   "source": [
    "a = np.tan(ifov)*l # ifov at distance l in km\n",
    "alongtrack_off_nadir_pixel_m = 1000*a # km to m\n",
    "print(alongtrack_off_nadir_pixel_m)"
   ]
  },
  {
   "cell_type": "markdown",
   "metadata": {},
   "source": [
    "Pixel size in cross-track dimenion for nadir view, m\n",
    "\n",
    "I think the cross-track ifov is swept over 1.8 times the along-track ifov?"
   ]
  },
  {
   "cell_type": "code",
   "execution_count": 8,
   "metadata": {},
   "outputs": [
    {
     "name": "stdout",
     "output_type": "stream",
     "text": [
      "69.12000068797072\n"
     ]
    }
   ],
   "source": [
    "a = np.tan(ifov*1.8)*h # ifov at distance h in km\n",
    "b = np.sin(np.radians(90)) # projected onto Earth surface with local incidence angle (b = 90 for nadir)\n",
    "crosstrack_nadir_pixel_m = 1000*a/b # km to m\n",
    "print(crosstrack_nadir_pixel_m)"
   ]
  },
  {
   "cell_type": "markdown",
   "metadata": {},
   "source": [
    "Pixel size in cross-track dimension for off-nadir view, m (given original size of 69 m at nadir)\n",
    "\n",
    "I think the cross-track ifov is swept over 1.8 times the along-track ifov?"
   ]
  },
  {
   "cell_type": "code",
   "execution_count": 9,
   "metadata": {},
   "outputs": [
    {
     "name": "stdout",
     "output_type": "stream",
     "text": [
      "77.36257343826082\n"
     ]
    }
   ],
   "source": [
    "a = np.tan(ifov*1.8)*h # ifov at distance h in km\n",
    "b = np.sin(np.radians(y-90)) # projected onto Earth surface with local incidence angle (b = 90-y for off-nadir)\n",
    "crosstrack_off_nadir_pixel_m = 1000*a/b # km to m\n",
    "print(crosstrack_off_nadir_pixel_m)"
   ]
  },
  {
   "cell_type": "markdown",
   "metadata": {},
   "source": [
    "Double check that the arc length subtended by angle \"x*2\" matches the published swath width (384 km) (But this varies with earth radius, orbit height)"
   ]
  },
  {
   "cell_type": "code",
   "execution_count": 10,
   "metadata": {},
   "outputs": [
    {
     "name": "stdout",
     "output_type": "stream",
     "text": [
      "375.6829116426942\n"
     ]
    }
   ],
   "source": [
    "estimated_swath_width = r*np.radians(x*2)\n",
    "# our estimated swath width, km\n",
    "print(estimated_swath_width)"
   ]
  },
  {
   "cell_type": "markdown",
   "metadata": {},
   "source": [
    "Please someone check my math!"
   ]
  },
  {
   "cell_type": "code",
   "execution_count": null,
   "metadata": {},
   "outputs": [],
   "source": []
  }
 ],
 "metadata": {
  "kernelspec": {
   "display_name": "Python 3",
   "language": "python",
   "name": "python3"
  },
  "language_info": {
   "codemirror_mode": {
    "name": "ipython",
    "version": 3
   },
   "file_extension": ".py",
   "mimetype": "text/x-python",
   "name": "python",
   "nbconvert_exporter": "python",
   "pygments_lexer": "ipython3",
   "version": "3.6.7"
  }
 },
 "nbformat": 4,
 "nbformat_minor": 2
}
